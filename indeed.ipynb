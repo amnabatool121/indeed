{
 "cells": [
  {
   "cell_type": "code",
   "execution_count": 5,
   "id": "5d24ef95-c5bc-471b-bada-7f1547ceb613",
   "metadata": {},
   "outputs": [
    {
     "name": "stdout",
     "output_type": "stream",
     "text": [
      "Data has been successfully scraped and saved to indeed_jobs2.csv\n"
     ]
    }
   ],
   "source": [
    "from selenium import webdriver\n",
    "from selenium.webdriver.chrome.service import Service\n",
    "from selenium.webdriver.common.by import By\n",
    "from selenium.webdriver.support.ui import WebDriverWait\n",
    "from selenium.webdriver.support import expected_conditions as EC\n",
    "from webdriver_manager.chrome import ChromeDriverManager\n",
    "import pandas as pd\n",
    "\n",
    "url = 'https://www.indeed.com/jobs?q=Korean+Bilingual+%2450%2C000&l=California&sc=0bf%3Aexrec%28%29%2Ckf%3Ajt%28fulltime%29%3B&vjk=78cd58f2983ed22d'\n",
    "\n",
    "# Set up the Selenium WebDriver with WebDriver Manager\n",
    "service = Service(ChromeDriverManager().install())\n",
    "driver = webdriver.Chrome(service=service)\n",
    "\n",
    "# Open the webpage\n",
    "driver.get(url)\n",
    "\n",
    "# Wait for the job cards to load\n",
    "try:\n",
    "    wait = WebDriverWait(driver, 20)\n",
    "    # Wait for the job card elements to be present\n",
    "    wait.until(EC.presence_of_element_located((By.CLASS_NAME, \"job_seen_beacon\")))\n",
    "\n",
    "    # Initialize lists to store job data\n",
    "    job_titles = []\n",
    "    companies = []\n",
    "\n",
    "    # Extract job postings\n",
    "    job_cards = driver.find_elements(By.CLASS_NAME, \"job_seen_beacon\")\n",
    "\n",
    "    for job_card in job_cards:\n",
    "        try:\n",
    "            # Extract job title\n",
    "            title_element = job_card.find_element(By.CSS_SELECTOR, \"h2.jobTitle\")\n",
    "            title = title_element.text.strip()\n",
    "            job_titles.append(title)\n",
    "        except Exception as e:\n",
    "            job_titles.append('N/A')\n",
    "            print(f\"Error extracting job title: {e}\")\n",
    "\n",
    "        try:\n",
    "            # Extract company name\n",
    "            company_element = job_card.find_element(By.CLASS_NAME, \"company_location\")\n",
    "            company = company_element.text.strip()\n",
    "            companies.append(company)\n",
    "        except Exception as e:\n",
    "            companies.append('N/A')\n",
    "            print(f\"Error extracting company location: {e}\")\n",
    "\n",
    "    # Create a DataFrame using pandas\n",
    "    job_data = {\n",
    "        'Job Title': job_titles,\n",
    "        'Company': companies\n",
    "    }\n",
    "    df = pd.DataFrame(job_data)\n",
    "\n",
    "    # Save the DataFrame to a CSV file\n",
    "    df.to_csv('indeed_jobs2.csv', index=False)\n",
    "\n",
    "    print('Data has been successfully scraped and saved to indeed_jobs2.csv')\n",
    "\n",
    "finally:\n",
    "    # Close the browser\n",
    "    driver.quit()\n"
   ]
  },
  {
   "cell_type": "code",
   "execution_count": null,
   "id": "094e3226-4633-4a26-8df8-d8b694cc03b4",
   "metadata": {},
   "outputs": [],
   "source": []
  }
 ],
 "metadata": {
  "kernelspec": {
   "display_name": "Python 3 (ipykernel)",
   "language": "python",
   "name": "python3"
  },
  "language_info": {
   "codemirror_mode": {
    "name": "ipython",
    "version": 3
   },
   "file_extension": ".py",
   "mimetype": "text/x-python",
   "name": "python",
   "nbconvert_exporter": "python",
   "pygments_lexer": "ipython3",
   "version": "3.12.0"
  }
 },
 "nbformat": 4,
 "nbformat_minor": 5
}
